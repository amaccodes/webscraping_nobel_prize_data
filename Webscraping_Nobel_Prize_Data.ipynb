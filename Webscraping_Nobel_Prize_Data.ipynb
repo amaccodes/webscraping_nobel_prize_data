{
 "cells": [
  {
   "cell_type": "code",
   "execution_count": 130,
   "id": "acf9c72a",
   "metadata": {},
   "outputs": [],
   "source": [
    "# Import important libraries \n",
    "\n",
    "# Standard Python Libraries \n",
    "\n",
    "from collections import Counter, defaultdict\n",
    "import html # for html manipulations\n",
    "import json # for key-value pair data structures\n",
    "import os\n",
    "import re # regular expression\n",
    "import time \n",
    "\n",
    "\n",
    "# 3rd Party Libraries\n",
    "\n",
    "from bs4 import BeautifulSoup # HTML parsing\n",
    "from IPython.display import HTML # render HTML in the notebook\n",
    "import matplotlib.pyplot as plt # plotting library\n",
    "import numpy as np\n",
    "import pandas as pd # tabular data (Dataframes)\n",
    "import requests # get/post HTML requests"
   ]
  },
  {
   "cell_type": "code",
   "execution_count": 131,
   "id": "e63fe1bd",
   "metadata": {},
   "outputs": [
    {
     "name": "stdout",
     "output_type": "stream",
     "text": [
      "The status code of the URL we selected is: 200\n"
     ]
    }
   ],
   "source": [
    "# define the url of the website we are interested in \n",
    "all_prizes_url = 'https://www.nobelprize.org/prizes/lists/all-nobel-prizes/all/'\n",
    "\n",
    "# save the contents of the url to a variable\n",
    "response = requests.get(all_prizes_url) # requests.get returns an object with different key-value pairs \n",
    "\n",
    "print(f\"The status code of the URL we selected is: {response.status_code}\")"
   ]
  },
  {
   "cell_type": "code",
   "execution_count": 132,
   "id": "6349253b",
   "metadata": {},
   "outputs": [
    {
     "data": {
      "text/plain": [
       "404"
      ]
     },
     "execution_count": 132,
     "metadata": {},
     "output_type": "execute_result"
    }
   ],
   "source": [
    "# I want to show you what happens when you make a get request to a webpage that doesn't exist \n",
    "fake_url = 'https://www.google.com/fake'\n",
    "\n",
    "google = requests.get(fake_url)\n",
    "\n",
    "google.status_code ## As you can see you get a 404 status code which means the page doesn't exist "
   ]
  },
  {
   "cell_type": "code",
   "execution_count": 133,
   "id": "c045384c",
   "metadata": {},
   "outputs": [],
   "source": [
    "html = response.text # saved the html content on the webpage to a variable"
   ]
  },
  {
   "cell_type": "code",
   "execution_count": 134,
   "id": "99962f6e",
   "metadata": {},
   "outputs": [
    {
     "name": "stdout",
     "output_type": "stream",
     "text": [
      "['Aaron Ciechanover</a>,', 'Aaron Klug</a>']\n",
      "['Aaron Ciechanover', 'Aaron Klug']\n"
     ]
    }
   ],
   "source": [
    "# Say I want to find all the occurances of my name, Aaron on the webpage\n",
    "print(re.findall(r'Aaron \\S+', html)) # \\S non whitespace chars, notice how it caught the anchor closing tag\n",
    "print(re.findall(r'Aaron \\w+', html)) # \\w word chars: letters, numbers, underscores\n",
    "\n",
    "# there are two people with my name who won the Nobel Prize"
   ]
  },
  {
   "cell_type": "code",
   "execution_count": 135,
   "id": "3dc8b023",
   "metadata": {},
   "outputs": [
    {
     "name": "stdout",
     "output_type": "stream",
     "text": [
      "<class 'bs4.BeautifulSoup'>\n"
     ]
    }
   ],
   "source": [
    "# Regex is nice but it is not as complex enough to do more intricate tasks and manipulating/extracting data from the DOM\n",
    "\n",
    "# thats where BeautifulSoup comes in, it translates the html into a tree structure for Python to understand\n",
    "\n",
    "soup = BeautifulSoup(html)\n",
    "\n",
    "print(type(soup))"
   ]
  },
  {
   "cell_type": "code",
   "execution_count": 136,
   "id": "70a915ea",
   "metadata": {},
   "outputs": [
    {
     "name": "stdout",
     "output_type": "stream",
     "text": [
      "<!DOCTYPE html>\n",
      "<html class=\"no-js\" lang=\"en-US\">\n",
      " <head>\n",
      "  <meta charset=\"utf-8\"/>\n",
      "  <script type=\"text/javascript\">\n",
      "   (window.NREUM||(NREUM={})).init={privacy:{cookies_enabled:true},ajax:{deny_list:[\"bam.eu01.nr-data.net\"]},distributed_tracing:{enabled:true}};(window.NREUM||(NREUM={})).loader_config={agentID:\"212354677\",accountID:\"3196970\",trustKey:\"3196970\",xpid:\"VwcOV19UCBACVVNRAgUCUlc=\",licenseKey:\"NRJS-0940f7eaf4cb46e1cfe\",applicationID:\"212354543\"};;/*! For license information please see\n"
     ]
    }
   ],
   "source": [
    "# adds \\n to make it more readable\n",
    "indented_html = soup.prettify() # returns a string \n",
    "\n",
    "print(indented_html[:500])"
   ]
  },
  {
   "cell_type": "code",
   "execution_count": 137,
   "id": "fadd57fa",
   "metadata": {},
   "outputs": [
    {
     "name": "stdout",
     "output_type": "stream",
     "text": [
      "[<title>All Nobel Prizes - NobelPrize.org</title>, <title>Open the search menu</title>, <title>Close the search menu</title>, <title>Open the search menu</title>, <title>Close the search menu</title>]\n"
     ]
    },
    {
     "data": {
      "text/plain": [
       "<a class=\"skip-link screen-reader-text\" href=\"#content\">\n",
       "\t\t\tSkip to content\t\t</a>"
      ]
     },
     "execution_count": 137,
     "metadata": {},
     "output_type": "execute_result"
    }
   ],
   "source": [
    "print(soup.select('title')) # selected all title tags, returns array\n",
    "soup.select_one('a') # selected first anchor tag"
   ]
  },
  {
   "cell_type": "code",
   "execution_count": 138,
   "id": "02515892",
   "metadata": {},
   "outputs": [
    {
     "name": "stdout",
     "output_type": "stream",
     "text": [
      "[<a href=\"https://www.nobelprize.org/prizes/physics/2024/summary/\">\n",
      "\t\t\tNobel Prize in Physics 2024\t\t</a>, <a href=\"https://www.nobelprize.org/prizes/chemistry/2024/summary/\">\n",
      "\t\t\tNobel Prize in Chemistry 2024\t\t</a>, <a href=\"https://www.nobelprize.org/prizes/medicine/2024/summary/\">\n",
      "\t\t\tNobel Prize in Physiology or Medicine 2024\t\t</a>]\n"
     ]
    },
    {
     "data": {
      "text/plain": [
       "[<a class=\"skip-link screen-reader-text\" href=\"#content\">\n",
       " \t\t\tSkip to content\t\t</a>,\n",
       " <a aria-label=\"Nobel Prize\" href=\"https://www.nobelprize.org\" itemprop=\"url\" name=\"top\">\n",
       " <svg class=\"site-logo-icon site-logo-icon--big\" fill=\"none\" height=\"60\" viewbox=\"0 0 77 60\" width=\"77\" xmlns=\"http://www.w3.org/2000/svg\"><path d=\"M25.298 1.997h-4.631v14.66h-2.21V1.997h-4.674V0h11.515v1.997ZM42.126 0v16.657h-2.21V8.711h-9.179v7.946h-2.21V0h2.21v6.714h9.179V0h2.21Zm14.617 16.657V14.66h-7.691V8.711h7.011V6.714h-7.011V1.997h7.564V0h-9.731v16.657h9.858Zm-43.045 5.014V38.33h-1.53L2.225 25.41v12.918H.1V21.67h1.7l9.773 12.578V21.671h2.125Zm12.025-.34c-4.801 0-8.71 3.867-8.71 8.669 0 4.802 3.909 8.669 8.71 8.669 4.802 0 8.711-3.867 8.711-8.669 0-4.802-3.91-8.669-8.71-8.669Zm.043 2.083c3.527 0 6.459 2.932 6.459 6.586 0 3.654-2.932 6.586-6.46 6.586-3.526 0-6.458-2.932-6.458-6.586 0-3.654 2.932-6.586 6.459-6.586Zm23.116 9.943c0 2.932-2.125 4.972-5.227 4.972h-5.779V21.67h5.27c3.059 0 4.971 1.53 4.971 3.995 0 1.614-.85 2.89-2.252 3.527 1.87.68 3.017 2.167 3.017 4.164Zm-8.796-9.73v4.8h3.06c1.53 0 2.846-.934 2.846-2.506 0-1.573-1.232-2.295-2.847-2.295h-3.06Zm6.629 9.772c0-1.87-1.445-3.017-3.145-3.017h-3.484v6.034h3.484c1.7-.042 3.145-1.147 3.145-3.017Zm15.467 4.93V36.33h-7.649v-5.949h7.012v-1.997h-7.012V23.67h7.564V21.67h-9.773V38.33h9.858ZM76.29 36.33v1.998h-9.731V21.67h2.21v14.66h7.52Zm-65.057 15.85c2.89 0 4.93-1.784 4.93-4.419 0-2.592-2.04-4.42-4.972-4.42H5.41V60h2.21v-7.819h3.612Zm0-6.841c1.615 0 2.72.892 2.72 2.422 0 1.53-1.105 2.422-2.72 2.422H7.621V45.34h3.612Zm12.11 6.756h-1.742V60h-2.21V43.343h5.78c2.89 0 4.929 1.742 4.929 4.376 0 2.423-1.742 4.08-4.25 4.335l6.035 7.904H29.25l-5.906-7.862ZM21.602 50.1h3.612c1.657 0 2.72-.85 2.72-2.38 0-1.53-1.105-2.38-2.72-2.38h-3.612v4.76Zm15.17-6.756h-2.21V60h2.21V43.343Zm3.442 14.915L49.86 45.34h-8.71v-1.997h11.557v1.614l-9.73 13.046h9.985V60H40.213v-1.742ZM66.304 60v-1.997h-7.691v-5.95h7.011v-1.996h-7.011V45.34h7.564v-1.997h-9.731V60h9.858Z\"></path></svg>\n",
       " <svg class=\"site-logo-icon site-logo-icon--small\" fill=\"none\" height=\"16\" viewbox=\"0 0 171 16\" width=\"171\" xmlns=\"http://www.w3.org/2000/svg\"><path d=\"M10.3 2.222H6.256v12.684H4.344V2.222H.3V.494h9.963v1.728h.037ZM24.822.494v14.412H22.91V8.03h-7.94v6.875h-1.913V.494h1.912v5.809h7.941V.494h1.912Zm12.61 12.684v1.728h-8.53V.494h8.42v1.728h-6.544v4.081h6.066v1.728h-6.066v5.147h6.654ZM57.322.494v14.412h-1.324L47.397 3.729v11.177h-1.839V.494h1.47l8.457 10.883V.494h1.838ZM60.19 7.7c0-4.154 3.382-7.5 7.537-7.5 4.154 0 7.536 3.346 7.536 7.5s-3.382 7.5-7.537 7.5c-4.154 0-7.536-3.346-7.536-7.5Zm13.162 0c0-3.162-2.537-5.699-5.589-5.699-3.051 0-5.588 2.537-5.588 5.699s2.537 5.699 5.588 5.699c3.052 0 5.588-2.537 5.588-5.699Zm14.411 2.904c0 2.537-1.838 4.302-4.522 4.302h-5.037V.494h4.56c2.646 0 4.3 1.324 4.3 3.456 0 1.397-.735 2.5-1.948 3.051 1.655.589 2.647 1.875 2.647 3.603Zm-7.61-8.419V6.34H82.8c1.324 0 2.463-.81 2.463-2.17 0-1.36-1.066-1.985-2.463-1.985h-2.647Zm5.735 8.456c0-1.617-1.25-2.61-2.72-2.61h-3.015v5.22h3.015c1.47-.036 2.72-.992 2.72-2.61Zm13.383 2.537v1.728h-8.53V.494h8.42v1.728h-6.545v4.081h6.103v1.728h-6.066v5.147h6.618Zm12.206 0v1.728h-8.42V.494h1.912v12.684h6.508Zm15.514-8.86c0 2.28-1.765 3.823-4.265 3.823h-3.125v6.765h-1.911V.494h5c2.537 0 4.301 1.581 4.301 3.824Zm-1.912 0c0-1.324-.955-2.096-2.353-2.096h-3.125v4.191h3.125c1.398 0 2.353-.772 2.353-2.095Zm8.089 3.75h-1.508v6.838h-1.911V.494h5c2.5 0 4.264 1.507 4.264 3.787 0 2.095-1.507 3.53-3.676 3.75l5.22 6.838h-2.279l-5.11-6.801Zm-1.471-1.728h3.125c1.434 0 2.353-.736 2.353-2.06 0-1.323-.956-2.058-2.353-2.058h-3.125V6.34ZM142.91.494h1.912v14.412h-1.912V.494ZM147.8 13.4l8.346-11.177h-7.537V.494h10v1.397l-8.419 11.287h8.639v1.728H147.8v-1.508Zm22.537-.221v1.728h-8.53V.494h8.42v1.728h-6.545v4.081h6.067v1.728h-6.067v5.147h6.655Z\"></path></svg>\n",
       " </a>,\n",
       " <a class=\"toggle-close\" href=\"#\" id=\"mobile-close-js\">\n",
       " <span>Close Mobile Menu</span>\n",
       " </a>,\n",
       " <a aria-controls=\"submenu-28259\" aria-expanded=\"false\" aria-haspopup=\"true\" class=\"menu-item-link\" href=\"/prizes/\">Nobel Prizes &amp; laureates</a>,\n",
       " <a class=\"menu-item-link\" href=\"/prizes/lists/all-nobel-prizes/\">All Nobel Prizes</a>]"
      ]
     },
     "execution_count": 138,
     "metadata": {},
     "output_type": "execute_result"
    }
   ],
   "source": [
    "print(soup.select('h3 a')[:3]) # selected all a tags in h3 element, first 3\n",
    "soup.select('a')[:5] # selected first 5 a tags on the webpage"
   ]
  },
  {
   "cell_type": "code",
   "execution_count": 139,
   "id": "6fabe88c",
   "metadata": {},
   "outputs": [
    {
     "name": "stdout",
     "output_type": "stream",
     "text": [
      "<div class=\"card-prize\">\n",
      " <h3>\n",
      "  <a href=\"https://www.nobelprize.org/prizes/physics/2024/summary/\">\n",
      "   Nobel Prize in Physics 2024\n",
      "  </a>\n",
      " </h3>\n",
      " <div class=\"card-prize--laureates\">\n",
      "  <div class=\"card-prize--laureates --two\">\n",
      "   <div class=\"card-prize--laureates--links\">\n",
      "    <a class=\"card-prize--laureates--links--link\" href=\"https://www.nobelprize.org/prizes/physics/2024/hopfield/facts/\">\n",
      "     John J. Hopfield\n",
      "    </a>\n",
      "    and\n",
      "    <a class=\"card-prize--laureates--links--link\" href=\"https://www.nobelprize.org/prizes/physics/2024/hinton/facts/\">\n",
      "     Geoffrey Hinton\n",
      "    </a>\n",
      "   </div>\n",
      "   <blockquote class=\"card-prize--laureates--motivation --last\">\n",
      "    “for foundational discoveries and inventions that enable machine learning with artificial neural networks”\n",
      "   </blockquote>\n",
      "  </div>\n",
      " </div>\n",
      "</div>\n",
      "\n"
     ]
    }
   ],
   "source": [
    "tag = soup.select('.card-prize')[0]\n",
    "\n",
    "print(tag.prettify())"
   ]
  },
  {
   "cell_type": "code",
   "execution_count": 140,
   "id": "44af57c6",
   "metadata": {},
   "outputs": [
    {
     "data": {
      "text/html": [
       "<div class=\"card-prize\">\n",
       " <h3>\n",
       "  <a href=\"https://www.nobelprize.org/prizes/physics/2024/summary/\">\n",
       "   Nobel Prize in Physics 2024\n",
       "  </a>\n",
       " </h3>\n",
       " <div class=\"card-prize--laureates\">\n",
       "  <div class=\"card-prize--laureates --two\">\n",
       "   <div class=\"card-prize--laureates--links\">\n",
       "    <a class=\"card-prize--laureates--links--link\" href=\"https://www.nobelprize.org/prizes/physics/2024/hopfield/facts/\">\n",
       "     John J. Hopfield\n",
       "    </a>\n",
       "    and\n",
       "    <a class=\"card-prize--laureates--links--link\" href=\"https://www.nobelprize.org/prizes/physics/2024/hinton/facts/\">\n",
       "     Geoffrey Hinton\n",
       "    </a>\n",
       "   </div>\n",
       "   <blockquote class=\"card-prize--laureates--motivation --last\">\n",
       "    “for foundational discoveries and inventions that enable machine learning with artificial neural networks”\n",
       "   </blockquote>\n",
       "  </div>\n",
       " </div>\n",
       "</div>\n"
      ],
      "text/plain": [
       "<IPython.core.display.HTML object>"
      ]
     },
     "execution_count": 140,
     "metadata": {},
     "output_type": "execute_result"
    }
   ],
   "source": [
    "HTML(tag.prettify()) # render the html in the notebook"
   ]
  },
  {
   "cell_type": "code",
   "execution_count": 141,
   "id": "60cecb80",
   "metadata": {},
   "outputs": [
    {
     "name": "stdout",
     "output_type": "stream",
     "text": [
      "Nobel Prize in Physics\n",
      "2024\n",
      "“for foundational discoveries and inventions that enable machine learning with artificial neural networks”\n"
     ]
    }
   ],
   "source": [
    "print(tag.h3.text.strip()[:-5]) # The Prize Name\n",
    "print(int(tag.h3.text.strip().split()[-1])) # The Prize Year\n",
    "print(tag.blockquote.text.strip()) # The description of the Prize"
   ]
  },
  {
   "cell_type": "code",
   "execution_count": 142,
   "id": "c6516541",
   "metadata": {},
   "outputs": [
    {
     "data": {
      "text/plain": [
       "['John J. Hopfield', 'Geoffrey Hinton']"
      ]
     },
     "execution_count": 142,
     "metadata": {},
     "output_type": "execute_result"
    }
   ],
   "source": [
    "# I want the two laureates who won the prize \n",
    "tags = tag.select('a')[1:]\n",
    "\n",
    "[tag.text.strip() for tag in tags]"
   ]
  },
  {
   "cell_type": "code",
   "execution_count": 143,
   "id": "0b2c8b0a",
   "metadata": {},
   "outputs": [
    {
     "data": {
      "text/plain": [
       "['https://www.nobelprize.org/prizes/physics/2024/hopfield/facts/',\n",
       " 'https://www.nobelprize.org/prizes/physics/2024/hinton/facts/']"
      ]
     },
     "execution_count": 143,
     "metadata": {},
     "output_type": "execute_result"
    }
   ],
   "source": [
    "# I want the links for each prize winner\n",
    "\n",
    "tag.select('a')[1:]\n",
    "\n",
    "[t.get('href') for t in tags]"
   ]
  },
  {
   "cell_type": "code",
   "execution_count": 144,
   "id": "6858b513",
   "metadata": {},
   "outputs": [
    {
     "data": {
      "text/plain": [
       "[('John J. Hopfield',\n",
       "  'https://www.nobelprize.org/prizes/physics/2024/hopfield/facts/'),\n",
       " ('Geoffrey Hinton',\n",
       "  'https://www.nobelprize.org/prizes/physics/2024/hinton/facts/')]"
      ]
     },
     "execution_count": 144,
     "metadata": {},
     "output_type": "execute_result"
    }
   ],
   "source": [
    "[(t.text.strip(), t.get('href')) for t in tags]"
   ]
  },
  {
   "cell_type": "code",
   "execution_count": 145,
   "id": "e88d3b06",
   "metadata": {},
   "outputs": [
    {
     "data": {
      "text/plain": [
       "'“for foundational discoveries and inventions that enable machine learning with artificial neural networks”'"
      ]
     },
     "execution_count": 145,
     "metadata": {},
     "output_type": "execute_result"
    }
   ],
   "source": [
    "#Here are some helper functions\n",
    "\n",
    "get_prizes = lambda soup: soup.select('.card-prize')\n",
    "\n",
    "get_titles = lambda soup: [t.text.strip() for t in soup.select('h3 a')]\n",
    "\n",
    "get_years = lambda soup: [int(t.text.strip()[-4:]) for t in soup.select('h3 a')]\n",
    "\n",
    "get_laureates = lambda soup: [(t.text.strip(), t.get('href')) for t in soup.select('.card-prize--laureates--links--link')]\n",
    "\n",
    "get_descriptions = lambda soup: [t.blockquote.text.strip() for t in soup.select('.card-prize')]\n",
    "\n",
    "getTitle = lambda tag: tag.h3.a.text.strip()[:-5]\n",
    "\n",
    "getYear = lambda tag: int(tag.h3.a.text.strip()[-5:])\n",
    "\n",
    "getDescription = lambda tag: tag.blockquote.text.strip()\n",
    "\n",
    "getDescription(tag)"
   ]
  },
  {
   "cell_type": "code",
   "execution_count": 146,
   "id": "07e24817",
   "metadata": {},
   "outputs": [
    {
     "name": "stdout",
     "output_type": "stream",
     "text": [
      "There are 627 Nobel Prizes to date.\n"
     ]
    },
    {
     "data": {
      "text/plain": [
       "{'title': 'Nobel Peace Prize',\n",
       " 'year': 1901,\n",
       " 'laureates': [('Henry Dunant',\n",
       "   'https://www.nobelprize.org/prizes/peace/1901/dunant/facts/'),\n",
       "  ('Frédéric Passy',\n",
       "   'https://www.nobelprize.org/prizes/peace/1901/passy/facts/')],\n",
       " 'description': '“for his humanitarian efforts to help wounded soldiers and create international understanding”'}"
      ]
     },
     "execution_count": 146,
     "metadata": {},
     "output_type": "execute_result"
    }
   ],
   "source": [
    "parsed_prizes = []\n",
    "\n",
    "for p in soup.select('.card-prize'):\n",
    "    desc = getDescription(p)\n",
    "    if 'No Nobel Prize was awarded' in desc:\n",
    "        continue\n",
    "    d = {\n",
    "        'title': getTitle(p),\n",
    "        'year': getYear(p),\n",
    "        'laureates': get_laureates(p),\n",
    "        'description': desc\n",
    "    }\n",
    "    parsed_prizes.append(d)\n",
    "\n",
    "print(f'There are {len(parsed_prizes)} Nobel Prizes to date.')\n",
    "\n",
    "parsed_prizes[-1] # the first ever Nobel Prize"
   ]
  },
  {
   "cell_type": "code",
   "execution_count": 147,
   "id": "ed197735",
   "metadata": {},
   "outputs": [
    {
     "data": {
      "text/plain": [
       "['Nobel Peace Prize',\n",
       " 'Nobel Prize in Chemistry',\n",
       " 'Nobel Prize in Literature',\n",
       " 'Nobel Prize in Physics',\n",
       " 'Nobel Prize in Physiology or Medicine',\n",
       " 'The Sveriges Riksbank Prize in Economic Sciences in Memory of Alfred Nobel']"
      ]
     },
     "execution_count": 147,
     "metadata": {},
     "output_type": "execute_result"
    }
   ],
   "source": [
    "# I want a list of all unique prize titles\n",
    "\n",
    "sorted(list(set([p['title'] for p in parsed_prizes])))"
   ]
  },
  {
   "cell_type": "code",
   "execution_count": 149,
   "id": "74b41906",
   "metadata": {},
   "outputs": [
    {
     "data": {
      "text/plain": [
       "1969"
      ]
     },
     "execution_count": 149,
     "metadata": {},
     "output_type": "execute_result"
    }
   ],
   "source": [
    "#WHat was the year the econ prize was first awarded\n",
    "\n",
    "sorted([p['year'] for p in parsed_prizes if 'Econ' in p['title']])[0]"
   ]
  }
 ],
 "metadata": {
  "kernelspec": {
   "display_name": "Python 3",
   "language": "python",
   "name": "python3"
  },
  "language_info": {
   "codemirror_mode": {
    "name": "ipython",
    "version": 3
   },
   "file_extension": ".py",
   "mimetype": "text/x-python",
   "name": "python",
   "nbconvert_exporter": "python",
   "pygments_lexer": "ipython3",
   "version": "3.11.11"
  }
 },
 "nbformat": 4,
 "nbformat_minor": 5
}
